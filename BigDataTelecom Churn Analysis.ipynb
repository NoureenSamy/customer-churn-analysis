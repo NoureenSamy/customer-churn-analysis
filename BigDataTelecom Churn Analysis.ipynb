{
  "nbformat": 4,
  "nbformat_minor": 0,
  "metadata": {
    "colab": {
      "provenance": []
    },
    "kernelspec": {
      "name": "python3",
      "display_name": "Python 3"
    },
    "language_info": {
      "name": "python"
    }
  },
  "cells": [
    {
      "cell_type": "code",
      "source": [
        "from pyspark.sql import SparkSession\n",
        "from pyspark.ml.feature import StringIndexer, VectorAssembler, OneHotEncoder\n",
        "from pyspark.ml.classification import RandomForestClassifier\n",
        "from pyspark.ml import Pipeline\n",
        "from pyspark.ml.stat import ChiSquareTest\n",
        "from pyspark.ml.evaluation import MulticlassClassificationEvaluator\n",
        "from pyspark.sql.functions import col\n",
        "import time\n",
        "\n",
        "# Initialize Spark Session\n",
        "spark = SparkSession.builder \\\n",
        "    .appName(\"Telecom Churn Analysis\") \\\n",
        "    .getOrCreate()\n",
        "\n",
        "# Load data\n",
        "df = spark.read.csv(\"/content/large_dataset(1).csv\", header=True, inferSchema=True)\n",
        "\n",
        "\n",
        "# Define numerical columns for outlier removal (Top 8 most important features)\n",
        "numerical_cols = [\n",
        "    \"Intl Mins\", \"Extra Data Charges\", \"Avg Monthly GB Download\", \"Local Calls\", \"Intl Calls\",\n",
        "    \"Local Mins\", \"Account Length (in months)\", \"Extra International Charges\"\n",
        "]\n",
        "\n",
        "# Index categorical features and apply one-hot encoding\n",
        "categorical_cols = [\"Intl Active\", \"Intl Plan\", \"Unlimited Data Plan\", \"Contract Type\", \"Payment Method\", \"Gender\"]\n",
        "indexers = [StringIndexer(inputCol=col, outputCol=col + \"_index\") for col in categorical_cols]\n",
        "encoders = [OneHotEncoder(inputCol=col + \"_index\", outputCol=col + \"_vec\") for col in categorical_cols]\n",
        "\n",
        "# Index target column\n",
        "target_col = \"Churn Label\"\n",
        "indexer_target = StringIndexer(inputCol=target_col, outputCol=target_col + \"_index\")\n",
        "\n",
        "# Assemble features into a single vector\n",
        "assembler = VectorAssembler(inputCols=numerical_cols + [col + \"_vec\" for col in categorical_cols], outputCol=\"features\")"
      ],
      "metadata": {
        "id": "9wB9VCQIYeHX"
      },
      "execution_count": null,
      "outputs": []
    },
    {
      "cell_type": "code",
      "source": [
        "# List your columns\n",
        "columns = ['index', 'Call Failure', 'Complains', 'Subscription Length', 'Charge Amount',\n",
        "           'Seconds of Use', 'Frequency of use', 'Frequency of SMS', 'Distinct Called Numbers',\n",
        "           'Age Group', 'Tariff Plan', 'Status', 'Age', 'Customer Value', 'Churn']\n",
        "\n",
        "# Clean column names by stripping whitespace (if needed)\n",
        "df = df.select([col(c).alias(c.strip()) for c in df.columns])\n",
        "\n",
        "# Verify the cleaned column names\n",
        "print(df.columns)\n",
        "\n",
        "# Handle missing values (example: drop rows with missing values)\n",
        "df_cleaned = df.dropna()\n",
        "\n",
        "# Convert categorical features like 'Tariff Plan' or 'Age Group' into indexed features\n",
        "categorical_cols = ['Tariff Plan', 'Age Group', 'Status']\n",
        "indexers = [StringIndexer(inputCol=col, outputCol=col + '_index') for col in categorical_cols]\n",
        "\n",
        "# Assemble all features into a vector\n",
        "numerical_cols = ['Subscription Length', 'Charge Amount', 'Seconds of Use', 'Frequency of use',\n",
        "                  'Frequency of SMS', 'Distinct Called Numbers', 'Age', 'Customer Value']\n",
        "assembler = VectorAssembler(inputCols=numerical_cols + [col + '_index' for col in categorical_cols],\n",
        "                            outputCol='features')\n",
        "\n",
        "# Define the pipeline\n",
        "pipeline = Pipeline(stages=indexers + [assembler])\n",
        "df_transformed = pipeline.fit(df_cleaned).transform(df_cleaned)\n",
        "\n",
        "# Show the transformed data\n",
        "df_transformed.show()"
      ],
      "metadata": {
        "colab": {
          "base_uri": "https://localhost:8080/"
        },
        "id": "9cMHspS1Y8AY",
        "outputId": "4d4d3065-ce15-46ea-bd88-c8556c0fc41d"
      },
      "execution_count": null,
      "outputs": [
        {
          "output_type": "stream",
          "name": "stdout",
          "text": [
            "['index', 'Call Failure', 'Complains', 'Subscription Length', 'Charge Amount', 'Seconds of Use', 'Frequency of use', 'Frequency of SMS', 'Distinct Called Numbers', 'Age Group', 'Tariff Plan', 'Status', 'Age', 'Customer Value', 'Churn']\n",
            "+-----+------------+---------+-------------------+-------------+--------------+----------------+----------------+-----------------------+---------+-----------+------+---+--------------+-----+-----------------+---------------+------------+--------------------+\n",
            "|index|Call Failure|Complains|Subscription Length|Charge Amount|Seconds of Use|Frequency of use|Frequency of SMS|Distinct Called Numbers|Age Group|Tariff Plan|Status|Age|Customer Value|Churn|Tariff Plan_index|Age Group_index|Status_index|            features|\n",
            "+-----+------------+---------+-------------------+-------------+--------------+----------------+----------------+-----------------------+---------+-----------+------+---+--------------+-----+-----------------+---------------+------------+--------------------+\n",
            "|    0|           8|        0|                 38|            0|          4370|              71|               5|                     17|        3|          1|     1| 30|        197.64|    0|              0.0|            0.0|         0.0|[38.0,0.0,4370.0,...|\n",
            "|    1|           0|        0|                 39|            0|           318|               5|               7|                      4|        2|          1|     2| 25|        46.035|    0|              0.0|            1.0|         1.0|[39.0,0.0,318.0,5...|\n",
            "|    2|          10|        0|                 37|            0|          2453|              60|             359|                     24|        3|          1|     1| 30|       1536.52|    0|              0.0|            0.0|         0.0|[37.0,0.0,2453.0,...|\n",
            "|    3|          10|        0|                 38|            0|          4198|              66|               1|                     35|        1|          1|     1| 15|        240.02|    0|              0.0|            4.0|         0.0|[38.0,0.0,4198.0,...|\n",
            "|    4|           3|        0|                 38|            0|          2393|              58|               2|                     33|        1|          1|     1| 15|       145.805|    0|              0.0|            4.0|         0.0|[38.0,0.0,2393.0,...|\n",
            "|    5|          11|        0|                 38|            1|          3775|              82|              32|                     28|        3|          1|     1| 30|        282.28|    0|              0.0|            0.0|         0.0|[38.0,1.0,3775.0,...|\n",
            "|    6|           4|        0|                 38|            0|          2360|              39|             285|                     18|        3|          1|     1| 30|       1235.96|    0|              0.0|            0.0|         0.0|[38.0,0.0,2360.0,...|\n",
            "|    7|          13|        0|                 37|            2|          9115|             121|             144|                     43|        3|          1|     1| 30|        945.44|    0|              0.0|            0.0|         0.0|[37.0,2.0,9115.0,...|\n",
            "|    8|           7|        0|                 38|            0|         13773|             169|               0|                     44|        3|          1|     1| 30|        557.68|    0|              0.0|            0.0|         0.0|(11,[0,2,3,5,6,7]...|\n",
            "|    9|           7|        0|                 38|            1|          4515|              83|               2|                     25|        3|          1|     1| 30|        191.92|    0|              0.0|            0.0|         0.0|[38.0,1.0,4515.0,...|\n",
            "|   10|           6|        0|                 38|            0|          5918|              95|               7|                     12|        3|          1|     1| 30|        268.52|    0|              0.0|            0.0|         0.0|[38.0,0.0,5918.0,...|\n",
            "|   11|           9|        0|                 38|            0|          2238|              54|               8|                     17|        3|          1|     2| 30|        123.68|    0|              0.0|            0.0|         1.0|[38.0,0.0,2238.0,...|\n",
            "|   12|          25|        0|                 38|            3|         15140|             225|              54|                     32|        3|          1|     1| 30|         830.6|    0|              0.0|            0.0|         0.0|[38.0,3.0,15140.0...|\n",
            "|   13|           4|        0|                 38|            1|          3095|              27|             483|                      8|        3|          1|     1| 30|       2056.88|    0|              0.0|            0.0|         0.0|[38.0,1.0,3095.0,...|\n",
            "|   14|           9|        0|                 37|            0|         15485|             182|             150|                     30|        2|          1|     1| 25|      1380.015|    0|              0.0|            1.0|         0.0|[37.0,0.0,15485.0...|\n",
            "|   15|           3|        0|                 37|            1|          6500|              86|             186|                     26|        3|          1|     1| 30|       1007.44|    0|              0.0|            0.0|         0.0|[37.0,1.0,6500.0,...|\n",
            "|   16|           0|        0|                 37|            0|           875|              14|               0|                     11|        2|          1|     2| 25|        40.005|    1|              0.0|            1.0|         1.0|[37.0,0.0,875.0,1...|\n",
            "|   17|           2|        0|                 38|            0|           710|              14|              13|                      8|        3|          1|     2| 30|         80.96|    0|              0.0|            0.0|         1.0|[38.0,0.0,710.0,1...|\n",
            "|   18|           0|        0|                 37|            0|             0|               0|               0|                      0|        2|          1|     2| 25|           0.0|    1|              0.0|            1.0|         1.0|(11,[0,6,9,10],[3...|\n",
            "|   19|           3|        0|                 37|            0|          7508|             127|             384|                     43|        2|          1|     1| 25|      2071.575|    0|              0.0|            1.0|         0.0|[37.0,0.0,7508.0,...|\n",
            "+-----+------------+---------+-------------------+-------------+--------------+----------------+----------------+-----------------------+---------+-----------+------+---+--------------+-----+-----------------+---------------+------------+--------------------+\n",
            "only showing top 20 rows\n",
            "\n"
          ]
        }
      ]
    },
    {
      "cell_type": "code",
      "source": [
        "from pyspark.ml.stat import ChiSquareTest\n",
        "from pyspark.ml.feature import VectorAssembler\n",
        "from pyspark.ml import Pipeline\n",
        "from pyspark.ml.classification import RandomForestClassifier\n",
        "from pyspark.ml.evaluation import MulticlassClassificationEvaluator\n",
        "import time\n",
        "\n",
        "# Define categorical columns (ensure they are indexed)\n",
        "categorical_cols = ['Tariff Plan_index', 'Age Group_index', 'Status_index']\n",
        "\n",
        "# Perform the Chi-Square test for each categorical feature\n",
        "for col_name in categorical_cols:\n",
        "    try:\n",
        "        chi_square = ChiSquareTest.test(df_transformed, 'features', col_name).head()\n",
        "        chi_square_stat = chi_square[0]\n",
        "        p_value = chi_square[1]\n",
        "        print(f\"Chi-Square statistic for {col_name}: Chi-Square = {chi_square_stat}, p-value = {p_value}\")\n",
        "        if p_value < 0.05:\n",
        "            print(f\"{col_name} is statistically significant.\")\n",
        "        else:\n",
        "            print(f\"{col_name} is not statistically significant.\")\n",
        "    except Exception as e:\n",
        "        print(f\"Error with column {col_name}: {e}\")\n",
        "\n",
        "# Now proceed with model training\n",
        "# Split the data\n",
        "train_data, val_data, test_data = df_transformed.randomSplit([0.7, 0.2, 0.1], seed=42)\n",
        "\n",
        "# Repartition the data\n",
        "train_data = train_data.repartition(5)\n",
        "val_data = val_data.repartition(3)\n",
        "test_data = test_data.repartition(2)\n",
        "\n",
        "# Train a Random Forest Classifier\n",
        "rf = RandomForestClassifier(labelCol='Churn', featuresCol='features', numTrees=10)\n",
        "\n",
        "# Start time for training\n",
        "start_time = time.time()\n",
        "\n",
        "# Train the model\n",
        "rf_model = rf.fit(train_data)\n",
        "\n",
        "# End time for training\n",
        "end_time = time.time()\n",
        "training_time = end_time - start_time\n",
        "print(f\"Training Time: {training_time} seconds\")\n",
        "\n",
        "# Evaluate the model on validation data\n",
        "val_predictions = rf_model.transform(val_data)\n",
        "\n",
        "# Evaluate accuracy on validation data\n",
        "evaluator = MulticlassClassificationEvaluator(labelCol='Churn', predictionCol=\"prediction\", metricName=\"accuracy\")\n",
        "val_accuracy = evaluator.evaluate(val_predictions)\n",
        "print(f\"Validation Accuracy: {val_accuracy}\")\n",
        "\n",
        "# Evaluate the model on test data\n",
        "test_predictions = rf_model.transform(test_data)\n",
        "\n",
        "# Evaluate accuracy on test data\n",
        "test_accuracy = evaluator.evaluate(test_predictions)\n",
        "print(f\"Test Accuracy: {test_accuracy}\")\n",
        "\n",
        "# Get feature importance from the trained Random Forest model\n",
        "importances = rf_model.featureImportances\n",
        "feature_cols = ['Subscription Length', 'Charge Amount', 'Seconds of Use', 'Frequency of use',\n",
        "                'Frequency of SMS', 'Distinct Called Numbers', 'Age', 'Customer Value',\n",
        "                'Tariff Plan_index', 'Age Group_index', 'Status_index']\n",
        "\n",
        "feature_importance = dict(zip(feature_cols, importances))\n",
        "\n",
        "# Rank the feature importance\n",
        "sorted_features = sorted(feature_importance.items(), key=lambda x: x[1], reverse=True)\n",
        "print(\"\\nFeature importance ranking:\")\n",
        "for feature, importance in sorted_features:\n",
        "    print(f\"{feature}: {importance}\")"
      ],
      "metadata": {
        "colab": {
          "base_uri": "https://localhost:8080/"
        },
        "id": "QL2WjYXaZVvI",
        "outputId": "8aac9e45-75fd-4025-cf2b-105c748ceb62"
      },
      "execution_count": null,
      "outputs": [
        {
          "output_type": "stream",
          "name": "stdout",
          "text": [
            "Chi-Square statistic for Tariff Plan_index: Chi-Square = [1.0891287871572786e-13,0.0,1.1064656380010973e-07,0.0,0.0,1.3850271951554305e-07,1.1297629498585593e-12,0.002670092490605902,0.0,1.1297629498585593e-12,1.5122270102807533e-09], p-value = [42, 10, 1009, 220, 305, 84, 4, 1243, 1, 4, 1]\n",
            "Error with column Tariff Plan_index: '<' not supported between instances of 'list' and 'float'\n",
            "Chi-Square statistic for Age Group_index: Chi-Square = [0.0,0.0,1.0120639738486759e-06,0.0,0.9998477064320171,0.0,0.0,0.00010461334124201027,1.1297629498585593e-12,0.0,1.0514777937231656e-10], p-value = [168, 40, 4036, 880, 1220, 336, 16, 4972, 4, 16, 4]\n",
            "Error with column Age Group_index: '<' not supported between instances of 'list' and 'float'\n",
            "Chi-Square statistic for Status_index: Chi-Square = [0.0018773424395375216,0.0,3.348804542557815e-07,0.0,0.9854546621079712,0.0,1.0514777937231656e-10,0.03312584830355758,1.5122270102807533e-09,1.0514777937231656e-10,0.0], p-value = [42, 10, 1009, 220, 305, 84, 4, 1243, 1, 4, 1]\n",
            "Error with column Status_index: '<' not supported between instances of 'list' and 'float'\n",
            "Training Time: 10.30670690536499 seconds\n",
            "Validation Accuracy: 0.9386973180076629\n",
            "Test Accuracy: 0.8991596638655462\n",
            "\n",
            "Feature importance ranking:\n",
            "Status_index: 0.3788649509934005\n",
            "Seconds of Use: 0.12575761640751712\n",
            "Subscription Length: 0.11883239168586146\n",
            "Frequency of use: 0.10237734850904612\n",
            "Customer Value: 0.09303176076423952\n",
            "Distinct Called Numbers: 0.09167325293802835\n",
            "Age: 0.04012472990642845\n",
            "Frequency of SMS: 0.029740169019390965\n",
            "Age Group_index: 0.014109791853726229\n",
            "Charge Amount: 0.0054879879223612045\n",
            "Tariff Plan_index: 0.0\n"
          ]
        }
      ]
    },
    {
      "cell_type": "code",
      "source": [
        "from pyspark.ml.classification import DecisionTreeClassifier\n",
        "\n",
        "# Define categorical columns (ensure they are indexed)\n",
        "categorical_cols = ['Tariff Plan_index', 'Age Group_index', 'Status_index']\n",
        "\n",
        "# Perform the Chi-Square test for each categorical feature\n",
        "for col_name in categorical_cols:\n",
        "    try:\n",
        "        chi_square = ChiSquareTest.test(df_transformed, 'features', col_name).head()\n",
        "        chi_square_stat = chi_square[0]\n",
        "        p_value = chi_square[1]\n",
        "        print(f\"Chi-Square statistic for {col_name}: Chi-Square = {chi_square_stat}, p-value = {p_value}\")\n",
        "        if p_value < 0.05:\n",
        "            print(f\"{col_name} is statistically significant.\")\n",
        "        else:\n",
        "            print(f\"{col_name} is not statistically significant.\")\n",
        "    except Exception as e:\n",
        "        print(f\"Error with column {col_name}: {e}\")"
      ],
      "metadata": {
        "colab": {
          "base_uri": "https://localhost:8080/"
        },
        "id": "-aW1S6AqjIZZ",
        "outputId": "547cf8b3-f281-485c-b3db-e16406c3adbc"
      },
      "execution_count": null,
      "outputs": [
        {
          "output_type": "stream",
          "name": "stdout",
          "text": [
            "Chi-Square statistic for Tariff Plan_index: Chi-Square = [1.0891287871572786e-13,0.0,1.1064656380010973e-07,0.0,0.0,1.3850271951554305e-07,1.1297629498585593e-12,0.002670092490605902,0.0,1.1297629498585593e-12,1.5122270102807533e-09], p-value = [42, 10, 1009, 220, 305, 84, 4, 1243, 1, 4, 1]\n",
            "Error with column Tariff Plan_index: '<' not supported between instances of 'list' and 'float'\n",
            "Chi-Square statistic for Age Group_index: Chi-Square = [0.0,0.0,1.0120639738486759e-06,0.0,0.9998477064320171,0.0,0.0,0.00010461334124201027,1.1297629498585593e-12,0.0,1.0514777937231656e-10], p-value = [168, 40, 4036, 880, 1220, 336, 16, 4972, 4, 16, 4]\n",
            "Error with column Age Group_index: '<' not supported between instances of 'list' and 'float'\n",
            "Chi-Square statistic for Status_index: Chi-Square = [0.0018773424395375216,0.0,3.348804542557815e-07,0.0,0.9854546621079712,0.0,1.0514777937231656e-10,0.03312584830355758,1.5122270102807533e-09,1.0514777937231656e-10,0.0], p-value = [42, 10, 1009, 220, 305, 84, 4, 1243, 1, 4, 1]\n",
            "Error with column Status_index: '<' not supported between instances of 'list' and 'float'\n"
          ]
        }
      ]
    },
    {
      "cell_type": "code",
      "source": [
        "print(df_transformed.columns)"
      ],
      "metadata": {
        "colab": {
          "base_uri": "https://localhost:8080/"
        },
        "id": "wOEiZjGflrWb",
        "outputId": "bf7182d2-0701-485c-ecab-fcb720aa1483"
      },
      "execution_count": null,
      "outputs": [
        {
          "output_type": "stream",
          "name": "stdout",
          "text": [
            "['index', 'Call Failure', 'Complains', 'Subscription Length', 'Charge Amount', 'Seconds of Use', 'Frequency of use', 'Frequency of SMS', 'Distinct Called Numbers', 'Age Group', 'Tariff Plan', 'Status', 'Age', 'Customer Value', 'Churn', 'Tariff Plan_index', 'Age Group_index', 'Status_index', 'features']\n"
          ]
        }
      ]
    },
    {
      "cell_type": "code",
      "source": [
        "categorical_cols = ['Age Group', 'Tariff Plan', 'Status']"
      ],
      "metadata": {
        "id": "3eG-MX_FmSPs"
      },
      "execution_count": null,
      "outputs": []
    },
    {
      "cell_type": "code",
      "source": [
        "# # Now proceed with model training\n",
        "# # Split the data\n",
        "# train_data, val_data, test_data = df_transformed.randomSplit([0.7, 0.2, 0.1], seed=42)\n",
        "\n",
        "# # Repartition the data\n",
        "# train_data = train_data.repartition(5)\n",
        "# val_data = val_data.repartition(3)\n",
        "# test_data = test_data.repartition(2)\n",
        "\n",
        "# # Define the Random Forest Classifier\n",
        "# rf = RandomForestClassifier(labelCol='Churn', featuresCol='features', numTrees=10)\n",
        "\n",
        "# # Define the Decision Tree Classifier\n",
        "# dt = DecisionTreeClassifier(labelCol='Churn', featuresCol='features')"
      ],
      "metadata": {
        "id": "IyiHfi6vjKdB"
      },
      "execution_count": null,
      "outputs": []
    },
    {
      "cell_type": "code",
      "source": [
        "# # Train the Random Forest Classifier\n",
        "# start_time = time.time()\n",
        "# rf_model = rf.fit(train_data)\n",
        "# end_time = time.time()\n",
        "# training_time = end_time - start_time\n",
        "# print(f\"Random Forest Training Time: {training_time} seconds\")"
      ],
      "metadata": {
        "colab": {
          "base_uri": "https://localhost:8080/"
        },
        "id": "1Xzuhy_djQIN",
        "outputId": "e107e335-8706-4a94-ecbc-b14aacac1aeb"
      },
      "execution_count": null,
      "outputs": [
        {
          "output_type": "stream",
          "name": "stdout",
          "text": [
            "Random Forest Training Time: 8.375802278518677 seconds\n"
          ]
        }
      ]
    },
    {
      "cell_type": "code",
      "source": [
        "# # Train the Random Forest Classifier\n",
        "# start_time = time.time()\n",
        "# rf_model = rf.fit(train_data)\n",
        "# end_time = time.time()\n",
        "# training_time = end_time - start_time\n",
        "# print(f\"Random Forest Training Time: {training_time} seconds\")"
      ],
      "metadata": {
        "colab": {
          "base_uri": "https://localhost:8080/"
        },
        "id": "uDPGEYpVjUUh",
        "outputId": "dc5057c2-32a7-413f-8585-d76a22e83a40"
      },
      "execution_count": null,
      "outputs": [
        {
          "output_type": "stream",
          "name": "stdout",
          "text": [
            "Random Forest Training Time: 8.059763193130493 seconds\n"
          ]
        }
      ]
    },
    {
      "cell_type": "code",
      "source": [
        "# # Evaluate the Random Forest model on validation data\n",
        "# val_predictions_rf = rf_model.transform(val_data)\n",
        "# evaluator = MulticlassClassificationEvaluator(labelCol='Churn', predictionCol=\"prediction\", metricName=\"accuracy\")\n",
        "# val_accuracy_rf = evaluator.evaluate(val_predictions_rf)\n",
        "# print(f\"Random Forest Validation Accuracy: {val_accuracy_rf}\")\n",
        "\n",
        "# # Evaluate the Random Forest model on test data\n",
        "# test_predictions_rf = rf_model.transform(test_data)\n",
        "# test_accuracy_rf = evaluator.evaluate(test_predictions_rf)\n",
        "# print(f\"Random Forest Test Accuracy: {test_accuracy_rf}\")\n",
        "\n",
        "# # Train the Decision Tree Classifier\n",
        "# start_time = time.time()\n",
        "# dt_model = dt.fit(train_data)\n",
        "# end_time = time.time()\n",
        "# training_time = end_time - start_time\n",
        "# print(f\"Decision Tree Training Time: {training_time} seconds\")"
      ],
      "metadata": {
        "colab": {
          "base_uri": "https://localhost:8080/"
        },
        "id": "9FAxYYhRjYB9",
        "outputId": "394a075e-fb20-4d3c-99ba-4c4d3755dea0"
      },
      "execution_count": null,
      "outputs": [
        {
          "output_type": "stream",
          "name": "stdout",
          "text": [
            "Random Forest Validation Accuracy: 0.9386973180076629\n",
            "Random Forest Test Accuracy: 0.8991596638655462\n",
            "Decision Tree Training Time: 4.366955757141113 seconds\n"
          ]
        }
      ]
    },
    {
      "cell_type": "code",
      "source": [
        "# Evaluate the Decision Tree model on validation data\n",
        "val_predictions_dt = dt_model.transform(val_data)\n",
        "val_accuracy_dt = evaluator.evaluate(val_predictions_dt)\n",
        "print(f\"Decision Tree Validation Accuracy: {val_accuracy_dt}\")\n",
        "\n",
        "# Evaluate the Decision Tree model on test data\n",
        "test_predictions_dt = dt_model.transform(test_data)\n",
        "test_accuracy_dt = evaluator.evaluate(test_predictions_dt)\n",
        "print(f\"Decision Tree Test Accuracy: {test_accuracy_dt}\")"
      ],
      "metadata": {
        "colab": {
          "base_uri": "https://localhost:8080/"
        },
        "id": "ivyynbuWjezj",
        "outputId": "7ce265d2-6d06-421a-e551-a7369969fbad"
      },
      "execution_count": null,
      "outputs": [
        {
          "output_type": "stream",
          "name": "stdout",
          "text": [
            "Decision Tree Validation Accuracy: 0.896551724137931\n",
            "Decision Tree Test Accuracy: 0.8907563025210085\n"
          ]
        }
      ]
    },
    {
      "cell_type": "code",
      "source": [
        "# # Evaluate the Decision Tree model on validation data\n",
        "# val_predictions_dt = dt_model.transform(val_data)\n",
        "# val_accuracy_dt = evaluator.evaluate(val_predictions_dt)\n",
        "# print(f\"Decision Tree Validation Accuracy: {val_accuracy_dt}\")\n",
        "\n",
        "# # Evaluate the Decision Tree model on test data\n",
        "# test_predictions_dt = dt_model.transform(test_data)\n",
        "# test_accuracy_dt = evaluator.evaluate(test_predictions_dt)\n",
        "# print(f\"Decision Tree Test Accuracy: {test_accuracy_dt}\")"
      ],
      "metadata": {
        "colab": {
          "base_uri": "https://localhost:8080/"
        },
        "id": "KrhGclj3jFFX",
        "outputId": "e40f8348-7568-4895-94cb-a22d0e893169"
      },
      "execution_count": null,
      "outputs": [
        {
          "output_type": "stream",
          "name": "stdout",
          "text": [
            "Decision Tree Validation Accuracy: 0.896551724137931\n",
            "Decision Tree Test Accuracy: 0.8907563025210085\n"
          ]
        }
      ]
    },
    {
      "cell_type": "code",
      "source": [
        "# Get feature importance from the trained Random Forest model\n",
        "importances_rf = rf_model.featureImportances\n",
        "feature_importance_rf = dict(zip(feature_cols, importances_rf))\n",
        "\n",
        "# Rank the Random Forest feature importance\n",
        "sorted_features_rf = sorted(feature_importance_rf.items(), key=lambda x: x[1], reverse=True)\n",
        "print(\"\\nRandom Forest Feature importance ranking:\")\n",
        "for feature, importance in sorted_features_rf:\n",
        "    print(f\"{feature}: {importance}\")\n",
        "\n",
        "# Get feature importance from the trained Decision Tree model\n",
        "importances_dt = dt_model.featureImportances\n",
        "feature_importance_dt = dict(zip(feature_cols, importances_dt))\n",
        "\n",
        "# Rank the Decision Tree feature importance\n",
        "sorted_features_dt = sorted(feature_importance_dt.items(), key=lambda x: x[1], reverse=True)\n",
        "print(\"\\nDecision Tree Feature importance ranking:\")\n",
        "for feature, importance in sorted_features_dt:\n",
        "    print(f\"{feature}: {importance}\")"
      ],
      "metadata": {
        "colab": {
          "base_uri": "https://localhost:8080/"
        },
        "id": "ROkeolOJjpm4",
        "outputId": "aa54ed9b-3268-41c3-ccbf-778234dae891"
      },
      "execution_count": null,
      "outputs": [
        {
          "output_type": "stream",
          "name": "stdout",
          "text": [
            "\n",
            "Random Forest Feature importance ranking:\n",
            "Status_index: 0.3788649509934005\n",
            "Seconds of Use: 0.12575761640751712\n",
            "Subscription Length: 0.11883239168586146\n",
            "Frequency of use: 0.10237734850904612\n",
            "Customer Value: 0.09303176076423952\n",
            "Distinct Called Numbers: 0.09167325293802835\n",
            "Age: 0.04012472990642845\n",
            "Frequency of SMS: 0.029740169019390965\n",
            "Age Group_index: 0.014109791853726229\n",
            "Charge Amount: 0.0054879879223612045\n",
            "Tariff Plan_index: 0.0\n",
            "\n",
            "Decision Tree Feature importance ranking:\n",
            "Status_index: 0.5336325703170851\n",
            "Seconds of Use: 0.2290565993554045\n",
            "Subscription Length: 0.11105684436670317\n",
            "Frequency of use: 0.07510658842638311\n",
            "Distinct Called Numbers: 0.038847402076545655\n",
            "Customer Value: 0.012299995457878542\n",
            "Charge Amount: 0.0\n",
            "Frequency of SMS: 0.0\n",
            "Age: 0.0\n",
            "Tariff Plan_index: 0.0\n",
            "Age Group_index: 0.0\n"
          ]
        }
      ]
    },
    {
      "cell_type": "code",
      "source": [
        "import numpy as np\n",
        "\n",
        "# Given values\n",
        "total_records = 3145728\n",
        "accuracy = 0.93\n",
        "\n",
        "# Calculating total correct and incorrect predictions\n",
        "total_correct = int(total_records * accuracy)\n",
        "total_incorrect = total_records - total_correct\n",
        "\n",
        "# Assuming an equal split of positive and negative samples\n",
        "tp = tn = total_correct // 2  # True Positives (TP) and True Negatives (TN)\n",
        "fp = fn = total_incorrect // 2  # False Positives (FP) and False Negatives (FN)\n",
        "\n",
        "# Calculate percentages\n",
        "tp_percent = (tp / total_records) * 100\n",
        "tn_percent = (tn / total_records) * 100\n",
        "fp_percent = (fp / total_records) * 100\n",
        "fn_percent = (fn / total_records) * 100\n",
        "\n",
        "# Print the results\n",
        "print(f\"Total Records: {total_records}\")\n",
        "print(f\"Accuracy: {accuracy * 100}%\\n\")\n",
        "\n",
        "print(f\"True Positives (TP): {tp} ({tp_percent:.2f}%)\")\n",
        "print(f\"True Negatives (TN): {tn} ({tn_percent:.2f}%)\")\n",
        "print(f\"False Positives (FP): {fp} ({fp_percent:.2f}%)\")\n",
        "print(f\"False Negatives (FN): {fn} ({fn_percent:.2f}%)\")\n"
      ],
      "metadata": {
        "id": "IhIqVqOKt4Nr",
        "colab": {
          "base_uri": "https://localhost:8080/"
        },
        "outputId": "88a75df5-20c8-4552-bfca-316ecc1cbfea"
      },
      "execution_count": null,
      "outputs": [
        {
          "output_type": "stream",
          "name": "stdout",
          "text": [
            "Total Records: 3145728\n",
            "Accuracy: 93.0%\n",
            "\n",
            "True Positives (TP): 1462763 (46.50%)\n",
            "True Negatives (TN): 1462763 (46.50%)\n",
            "False Positives (FP): 110100 (3.50%)\n",
            "False Negatives (FN): 110100 (3.50%)\n"
          ]
        }
      ]
    },
    {
      "cell_type": "code",
      "source": [
        "import matplotlib.pyplot as plt\n",
        "from sklearn.metrics import confusion_matrix\n",
        "import seaborn as sns\n",
        "import numpy as np\n",
        "\n",
        "# Function to plot confusion matrix as percentages and show test accuracy\n",
        "def plot_confusion_matrix_with_accuracy(true_labels, predictions, accuracy, model_name, title=\"Confusion Matrix (Percentage)\"):\n",
        "    cm = confusion_matrix(true_labels, predictions)\n",
        "    cm_percentage = cm.astype('float') / cm.sum(axis=1)[:, np.newaxis]  # Normalize to percentage\n",
        "\n",
        "    plt.figure(figsize=(8, 6))\n",
        "    sns.heatmap(cm_percentage, annot=True, fmt='.2%', cmap='Blues', xticklabels=['0', '1'], yticklabels=['0', '1'])\n",
        "\n",
        "    # Display the accuracy on the graph\n",
        "    plt.title(f\"{model_name} Confusion Matrix (Accuracy: {accuracy * 100:.2f}%)\")\n",
        "    plt.xlabel('Predicted')\n",
        "    plt.ylabel('True')\n",
        "    plt.show()\n",
        "\n",
        "# Evaluate the Random Forest model on test data\n",
        "test_predictions_rf = rf_model.transform(test_data)\n",
        "test_accuracy_rf = evaluator.evaluate(test_predictions_rf)\n",
        "\n",
        "# Evaluate the Decision Tree model on test data\n",
        "test_predictions_dt = dt_model.transform(test_data)\n",
        "test_accuracy_dt = evaluator.evaluate(test_predictions_dt)\n",
        "\n",
        "# Extract true labels and predictions for confusion matrix\n",
        "true_labels_rf = test_predictions_rf.select('Churn').collect()\n",
        "predictions_rf = test_predictions_rf.select('prediction').collect()\n",
        "\n",
        "true_labels_dt = test_predictions_dt.select('Churn').collect()\n",
        "predictions_dt = test_predictions_dt.select('prediction').collect()\n",
        "\n",
        "# Convert true labels and predictions to arrays\n",
        "true_labels_rf = np.array([row['Churn'] for row in true_labels_rf])\n",
        "predictions_rf = np.array([row['prediction'] for row in predictions_rf])\n",
        "\n",
        "true_labels_dt = np.array([row['Churn'] for row in true_labels_dt])\n",
        "predictions_dt = np.array([row['prediction'] for row in predictions_dt])\n",
        "\n",
        "# Plot confusion matrix with accuracy for Random Forest\n",
        "plot_confusion_matrix_with_accuracy(true_labels_rf, predictions_rf, rf_test_accuracy, \"Random Forest\")\n",
        "\n",
        "# Plot confusion matrix with accuracy for Decision Tree\n",
        "plot_confusion_matrix_with_accuracy(true_labels_dt, predictions_dt, dt_test_accuracy, \"Decision Tree\")"
      ],
      "metadata": {
        "colab": {
          "base_uri": "https://localhost:8080/",
          "height": 1000
        },
        "id": "2jLnfo-FF5BG",
        "outputId": "b7a7ea40-5785-4ae6-9b84-e0ddc303a131"
      },
      "execution_count": null,
      "outputs": [
        {
          "output_type": "stream",
          "name": "stdout",
          "text": [
            "Total Records: 3145728\n",
            "Accuracy: 93.0%\n",
            "\n",
            "True Positives (TP): 1462763 (46.50%)\n",
            "True Negatives (TN): 1462763 (46.50%)\n",
            "False Positives (FP): 110100 (3.50%)\n",
            "False Negatives (FN): 110100 (3.50%)\n",
            "\n"
          ]
        },
        {
          "output_type": "display_data",
          "data": {
            "text/plain": [
              "<Figure size 800x600 with 1 Axes>"
            ],
            "image/png": "[encoded data removed]"
          },
          "metadata": {}
        },
        {
          "output_type": "display_data",
          "data": {
            "text/plain": [
              "<Figure size 700x700 with 1 Axes>"
            ],
            "image/png": "[encoded data removed]"
          },
          "metadata": {}
        }
      ]
    },
    {
      "cell_type": "code",
      "source": [],
      "metadata": {
        "id": "ux_kK19Ir0Rq",
        "colab": {
          "base_uri": "https://localhost:8080/",
          "height": 1000
        },
        "outputId": "649a384a-f44e-41f2-d356-0f813e52b10b"
      },
      "execution_count": null,
      "outputs": [
        {
          "output_type": "display_data",
          "data": {
            "text/plain": [
              "<Figure size 700x1400 with 2 Axes>"
            ],
            "image/png": "[encoded data removed]"
          },
          "metadata": {}
        }
      ]
    },
    {
      "cell_type": "code",
      "source": [],
      "metadata": {
        "id": "GE7TQ3XJziBr"
      },
      "execution_count": null,
      "outputs": []
    },
    {
      "cell_type": "code",
      "source": [],
      "metadata": {
        "id": "Qjw8atttzzdp"
      },
      "execution_count": null,
      "outputs": []
    }
  ]
}